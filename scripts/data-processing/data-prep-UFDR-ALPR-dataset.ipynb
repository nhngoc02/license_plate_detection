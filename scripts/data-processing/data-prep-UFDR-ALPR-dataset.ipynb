{
 "cells": [
  {
   "cell_type": "markdown",
   "metadata": {},
   "source": [
    "# Import packages"
   ]
  },
  {
   "cell_type": "code",
   "execution_count": 2,
   "metadata": {},
   "outputs": [],
   "source": [
    "import cv2\n",
    "import os\n",
    "import shutil"
   ]
  },
  {
   "cell_type": "markdown",
   "metadata": {},
   "source": [
    "# Data Prep"
   ]
  },
  {
   "cell_type": "code",
   "execution_count": 18,
   "metadata": {},
   "outputs": [],
   "source": [
    "def create_file_lists(base_dir, output_image_txt, output_label_txt):\n",
    "    \"\"\"\n",
    "    Create .txt files listing all image and label paths for the dataset.\n",
    "    Args:\n",
    "        base_dir (str): The base directory containing train, val, and test folders.\n",
    "        output_image_txt (str): Path to save the image file list.\n",
    "        output_label_txt (str): Path to save the label file list.\n",
    "    \"\"\"\n",
    "    image_paths = []\n",
    "    label_paths = []\n",
    "\n",
    "    # Recursively collect all .png and .txt files\n",
    "    for root, _, files in os.walk(base_dir):\n",
    "        for file in files:\n",
    "            if file.endswith('.png'):\n",
    "                # Collect image path\n",
    "                image_path = os.path.join(root, file)\n",
    "                image_paths.append(image_path)\n",
    "\n",
    "                # Collect corresponding label path\n",
    "                label_file = file.replace('.png', '.txt')\n",
    "                label_path = os.path.join(root, label_file)\n",
    "                if os.path.exists(label_path):\n",
    "                    label_paths.append(label_path)\n",
    "\n",
    "    # Write image paths to output_image_txt\n",
    "    with open(output_image_txt, 'w') as f:\n",
    "        for path in image_paths:\n",
    "            f.write(f\"{path}\\n\")\n",
    "\n",
    "    # Write label paths to output_label_txt\n",
    "    with open(output_label_txt, 'w') as f:\n",
    "        for path in label_paths:\n",
    "            f.write(f\"{path}\\n\")\n",
    "\n",
    "    print(f\"Created {output_image_txt} with {len(image_paths)} image paths.\")\n",
    "    print(f\"Created {output_label_txt} with {len(label_paths)} label paths.\")\n"
   ]
  },
  {
   "cell_type": "code",
   "execution_count": 19,
   "metadata": {},
   "outputs": [
    {
     "name": "stdout",
     "output_type": "stream",
     "text": [
      "Created /Users/nhngoc02/Downloads/UFPR-ALPR_dataset/training/train_images.txt with 1800 image paths.\n",
      "Created /Users/nhngoc02/Downloads/UFPR-ALPR_dataset/training/train_labels.txt with 1800 label paths.\n"
     ]
    }
   ],
   "source": [
    "# create txt file to store training image and label directories\n",
    "base_dir = '/UFPR-ALPR_dataset/training'  # Root directory containing train, val, and test folders\n",
    "output_image_txt = '/UFPR-ALPR_dataset/training/train_images.txt'\n",
    "output_label_txt = '/UFPR-ALPR_dataset/training/train_labels.txt'\n",
    "\n",
    "create_file_lists(base_dir, output_image_txt, output_label_txt)"
   ]
  },
  {
   "cell_type": "code",
   "execution_count": 20,
   "metadata": {},
   "outputs": [
    {
     "name": "stdout",
     "output_type": "stream",
     "text": [
      "Created /Users/nhngoc02/Downloads/UFPR-ALPR_dataset/validation/validation_images.txt with 900 image paths.\n",
      "Created /Users/nhngoc02/Downloads/UFPR-ALPR_dataset/validation/validation_labels.txt with 900 label paths.\n"
     ]
    }
   ],
   "source": [
    "# create txt file to store validation image and label directories\n",
    "base_dir = '/UFPR-ALPR_dataset/validation'  # Root directory containing train, val, and test folders\n",
    "output_image_txt = '/UFPR-ALPR_dataset/validation/validation_images.txt'\n",
    "output_label_txt = '/UFPR-ALPR_dataset/validation/validation_labels.txt'\n",
    "\n",
    "create_file_lists(base_dir, output_image_txt, output_label_txt)"
   ]
  },
  {
   "cell_type": "code",
   "execution_count": 21,
   "metadata": {},
   "outputs": [
    {
     "name": "stdout",
     "output_type": "stream",
     "text": [
      "Created /Users/nhngoc02/Downloads/UFPR-ALPR_dataset/testing/testing_images.txt with 1800 image paths.\n",
      "Created /Users/nhngoc02/Downloads/UFPR-ALPR_dataset/testing/testing_labels.txt with 1800 label paths.\n"
     ]
    }
   ],
   "source": [
    "# create txt file to store testing image and label directories\n",
    "base_dir = '/UFPR-ALPR_dataset/testing'  # Root directory containing train, val, and test folders\n",
    "output_image_txt = '/UFPR-ALPR_dataset/testing/testing_images.txt'\n",
    "output_label_txt = '/UFPR-ALPR_dataset/testing/testing_labels.txt'\n",
    "\n",
    "create_file_lists(base_dir, output_image_txt, output_label_txt)"
   ]
  },
  {
   "cell_type": "markdown",
   "metadata": {},
   "source": [
    "## Convert the data structure to YOLO format"
   ]
  },
  {
   "cell_type": "code",
   "execution_count": 22,
   "metadata": {},
   "outputs": [],
   "source": [
    "def convert_to_yolo_structure_from_txt(image_txt, label_txt, image_output_dir, label_output_dir):\n",
    "    \"\"\"\n",
    "    Converts a dataset using provided image and label file paths into YOLO's required structure.\n",
    "    Args:\n",
    "        image_txt (str): Path to the .txt file listing image file paths.\n",
    "        label_txt (str): Path to the .txt file listing label file paths.\n",
    "        image_output_dir (str): Directory to store YOLO images.\n",
    "        label_output_dir (str): Directory to store YOLO labels.\n",
    "    \"\"\"\n",
    "    os.makedirs(image_output_dir, exist_ok=True)\n",
    "    os.makedirs(label_output_dir, exist_ok=True)\n",
    "\n",
    "    # Read image and label paths\n",
    "    with open(image_txt, 'r') as img_f, open(label_txt, 'r') as lbl_f:\n",
    "        image_paths = [line.strip() for line in img_f.readlines()]\n",
    "        label_paths = [line.strip() for line in lbl_f.readlines()]\n",
    "\n",
    "    # Ensure the number of images matches the number of labels\n",
    "    assert len(image_paths) == len(label_paths), \"Mismatch between image and label counts!\"\n",
    "\n",
    "    # Copy images and labels to the YOLO structure\n",
    "    for img_path, lbl_path in zip(image_paths, label_paths):\n",
    "        # Copy image\n",
    "        dest_image = os.path.join(image_output_dir, os.path.basename(img_path))\n",
    "        shutil.copy(img_path, dest_image)\n",
    "\n",
    "        # Copy label\n",
    "        dest_label = os.path.join(label_output_dir, os.path.basename(lbl_path))\n",
    "        shutil.copy(lbl_path, dest_label)\n",
    "\n",
    "    print(f\"Converted {len(image_paths)} images and labels into YOLO structure.\")\n"
   ]
  },
  {
   "cell_type": "code",
   "execution_count": 23,
   "metadata": {},
   "outputs": [],
   "source": [
    "def convert_all_to_yolo_structure(base_txt_dir, output_dir):\n",
    "    \"\"\"\n",
    "    Converts all train, val, and test datasets into YOLO structure using *.txt files for paths.\n",
    "    Args:\n",
    "        base_txt_dir (str): Directory containing the train, val, and test image/label .txt files.\n",
    "        output_dir (str): Directory to store the YOLO-structured dataset.\n",
    "    \"\"\"\n",
    "    splits = ['train', 'val', 'test']\n",
    "    for split in splits:\n",
    "        image_txt = os.path.join(base_txt_dir, f\"{split}_images.txt\")\n",
    "        label_txt = os.path.join(base_txt_dir, f\"{split}_labels.txt\")\n",
    "        image_output_dir = os.path.join(output_dir, f\"images/{split}\")\n",
    "        label_output_dir = os.path.join(output_dir, f\"labels/{split}\")\n",
    "\n",
    "        convert_to_yolo_structure_from_txt(image_txt, label_txt, image_output_dir, label_output_dir)\n",
    "\n",
    "    print(f\"Dataset converted to YOLO structure at {output_dir}.\")"
   ]
  },
  {
   "cell_type": "markdown",
   "metadata": {},
   "source": [
    "## Train, Validation, Test sets"
   ]
  },
  {
   "cell_type": "code",
   "execution_count": 25,
   "metadata": {},
   "outputs": [
    {
     "name": "stdout",
     "output_type": "stream",
     "text": [
      "Converted 1800 images and labels into YOLO structure.\n",
      "Converted 900 images and labels into YOLO structure.\n",
      "Converted 1800 images and labels into YOLO structure.\n",
      "Dataset successfully converted to YOLO structure!\n"
     ]
    }
   ],
   "source": [
    "train_images_txt = '/UFPR-ALPR_dataset/training/train_images.txt'\n",
    "train_labels_txt = '/UFPR-ALPR_dataset/training/train_labels.txt'\n",
    "\n",
    "val_images_txt = '/UFPR-ALPR_dataset/validation/validation_images.txt'\n",
    "val_labels_txt = '/UFPR-ALPR_dataset/validation/validation_labels.txt'\n",
    "\n",
    "test_images_txt = '/UFPR-ALPR_dataset/testing/testing_images.txt'\n",
    "test_labels_txt = '/UFPR-ALPR_dataset/testing/testing_labels.txt'\n",
    "\n",
    "# Define YOLO output directories\n",
    "yolo_output_dir = '/UFPR-ALPR_dataset/yolo_dataset'\n",
    "train_image_output_dir = os.path.join(yolo_output_dir, 'images/train')\n",
    "train_label_output_dir = os.path.join(yolo_output_dir, 'labels/train')\n",
    "val_image_output_dir = os.path.join(yolo_output_dir, 'images/val')\n",
    "val_label_output_dir = os.path.join(yolo_output_dir, 'labels/val')\n",
    "test_image_output_dir = os.path.join(yolo_output_dir, 'images/test')\n",
    "test_label_output_dir = os.path.join(yolo_output_dir, 'labels/test')\n",
    "\n",
    "# Convert train set\n",
    "convert_to_yolo_structure_from_txt(\n",
    "    image_txt=train_images_txt,\n",
    "    label_txt=train_labels_txt,\n",
    "    image_output_dir=train_image_output_dir,\n",
    "    label_output_dir=train_label_output_dir\n",
    ")\n",
    "\n",
    "# Convert validation set\n",
    "convert_to_yolo_structure_from_txt(\n",
    "    image_txt=val_images_txt,\n",
    "    label_txt=val_labels_txt,\n",
    "    image_output_dir=val_image_output_dir,\n",
    "    label_output_dir=val_label_output_dir\n",
    ")\n",
    "\n",
    "# Convert test set\n",
    "convert_to_yolo_structure_from_txt(\n",
    "    image_txt=test_images_txt,\n",
    "    label_txt=test_labels_txt,\n",
    "    image_output_dir=test_image_output_dir,\n",
    "    label_output_dir=test_label_output_dir\n",
    ")\n",
    "\n",
    "print(\"Dataset successfully converted to YOLO structure!\")"
   ]
  },
  {
   "cell_type": "markdown",
   "metadata": {},
   "source": [
    "## Extract image labels"
   ]
  },
  {
   "cell_type": "code",
   "execution_count": 26,
   "metadata": {},
   "outputs": [],
   "source": [
    "def parse_corners_to_yolo(label_file, image_width, image_height):\n",
    "    \"\"\"\n",
    "    Parse corners from a label file and convert to YOLO format.\n",
    "    Args:\n",
    "        label_file (str): Path to the label file containing corners information.\n",
    "        image_width (int): Width of the corresponding image.\n",
    "        image_height (int): Height of the corresponding image.\n",
    "    Returns:\n",
    "        list: YOLO-formatted annotations as a list of strings.\n",
    "    \"\"\"\n",
    "    yolo_annotations = []\n",
    "\n",
    "    with open(label_file, 'r') as f:\n",
    "        for line in f:\n",
    "            if line.startswith(\"corners:\"):\n",
    "                corners_str = line.split(\":\")[1].strip()\n",
    "                corners = [tuple(map(int, point.split(','))) for point in corners_str.split()]\n",
    "                \n",
    "                # Compute bounding box\n",
    "                x_min = min(corner[0] for corner in corners)\n",
    "                y_min = min(corner[1] for corner in corners)\n",
    "                x_max = max(corner[0] for corner in corners)\n",
    "                y_max = max(corner[1] for corner in corners)\n",
    "\n",
    "                # Convert to YOLO format\n",
    "                x_center = (x_min + x_max) / 2 / image_width\n",
    "                y_center = (y_min + y_max) / 2 / image_height\n",
    "                width = (x_max - x_min) / image_width\n",
    "                height = (y_max - y_min) / image_height\n",
    "\n",
    "                # Add class_id (e.g., 0 for license plate)\n",
    "                yolo_annotations.append(f\"0 {x_center} {y_center} {width} {height}\")\n",
    "\n",
    "    return yolo_annotations"
   ]
  },
  {
   "cell_type": "code",
   "execution_count": 27,
   "metadata": {},
   "outputs": [],
   "source": [
    "def convert_corners_labels_to_yolo(image_txt, label_txt, image_output_dir, label_output_dir):\n",
    "    \"\"\"\n",
    "    Converts corners-based labels to YOLO format and organizes the dataset.\n",
    "    Args:\n",
    "        image_txt (str): Path to the .txt file containing image paths.\n",
    "        label_txt (str): Path to the .txt file containing label paths.\n",
    "        image_output_dir (str): Directory to store YOLO images.\n",
    "        label_output_dir (str): Directory to store YOLO labels.\n",
    "    \"\"\"\n",
    "    os.makedirs(image_output_dir, exist_ok=True)\n",
    "    os.makedirs(label_output_dir, exist_ok=True)\n",
    "\n",
    "    # Read image and label paths\n",
    "    with open(image_txt, 'r') as img_f, open(label_txt, 'r') as lbl_f:\n",
    "        image_paths = [line.strip() for line in img_f.readlines()]\n",
    "        label_paths = [line.strip() for line in lbl_f.readlines()]\n",
    "\n",
    "    # Ensure the number of images matches the number of labels\n",
    "    assert len(image_paths) == len(label_paths), \"Mismatch between image and label counts!\"\n",
    "\n",
    "    for img_path, lbl_path in zip(image_paths, label_paths):\n",
    "        # Read image to get dimensions\n",
    "        img = cv2.imread(img_path)\n",
    "        if img is None:\n",
    "            print(f\"Error reading image: {img_path}\")\n",
    "            continue\n",
    "        img_height, img_width = img.shape[:2]\n",
    "\n",
    "        # Convert label file\n",
    "        yolo_annotations = parse_corners_to_yolo(lbl_path, img_width, img_height)\n",
    "\n",
    "        # Save YOLO annotations\n",
    "        output_label_path = os.path.join(label_output_dir, os.path.basename(lbl_path))\n",
    "        with open(output_label_path, 'w') as f:\n",
    "            f.write(\"\\n\".join(yolo_annotations))\n",
    "\n",
    "        # Copy image\n",
    "        dest_image = os.path.join(image_output_dir, os.path.basename(img_path))\n",
    "        shutil.copy(img_path, dest_image)\n",
    "\n",
    "    print(f\"Converted labels and images to YOLO format in {image_output_dir} and {label_output_dir}.\")\n"
   ]
  },
  {
   "cell_type": "code",
   "execution_count": 10,
   "metadata": {},
   "outputs": [],
   "source": [
    "def parse_corners_and_convert(label_file, image_width, image_height):\n",
    "    \"\"\"\n",
    "    Parse the 'corners' field from the label file and convert it to YOLO format.\n",
    "    Args:\n",
    "        label_file (str): Path to the label file.\n",
    "        image_width (int): Width of the image.\n",
    "        image_height (int): Height of the image.\n",
    "    Returns:\n",
    "        list: A list of YOLO-format annotations.\n",
    "    \"\"\"\n",
    "    yolo_annotations = []\n",
    "\n",
    "    with open(label_file, 'r') as f:\n",
    "        for line in f:\n",
    "            if line.startswith(\"corners:\"):\n",
    "                corners_str = line.split(\":\")[1].strip()\n",
    "                corners = [tuple(map(int, point.split(','))) for point in corners_str.split()]\n",
    "                \n",
    "                # Compute YOLO format\n",
    "                x_min = min(corner[0] for corner in corners)\n",
    "                y_min = min(corner[1] for corner in corners)\n",
    "                x_max = max(corner[0] for corner in corners)\n",
    "                y_max = max(corner[1] for corner in corners)\n",
    "                \n",
    "                x_center = (x_min + x_max) / 2 / image_width\n",
    "                y_center = (y_min + y_max) / 2 / image_height\n",
    "                width = (x_max - x_min) / image_width\n",
    "                height = (y_max - y_min) / image_height\n",
    "\n",
    "                # Append class_id (0 for license plate) and YOLO bbox\n",
    "                yolo_annotations.append(f\"0 {x_center} {y_center} {width} {height}\")\n",
    "    \n",
    "    return yolo_annotations"
   ]
  },
  {
   "cell_type": "code",
   "execution_count": 29,
   "metadata": {},
   "outputs": [
    {
     "name": "stdout",
     "output_type": "stream",
     "text": [
      "Converted labels and images to YOLO format in /Users/nhngoc02/Downloads/UFPR-ALPR_dataset/yolo_dataset_structure/images/train and /Users/nhngoc02/Downloads/UFPR-ALPR_dataset/yolo_dataset_structure/labels/train.\n",
      "Converted labels and images to YOLO format in /Users/nhngoc02/Downloads/UFPR-ALPR_dataset/yolo_dataset_structure/images/val and /Users/nhngoc02/Downloads/UFPR-ALPR_dataset/yolo_dataset_structure/labels/val.\n",
      "Converted labels and images to YOLO format in /Users/nhngoc02/Downloads/UFPR-ALPR_dataset/yolo_dataset_structure/images/test and /Users/nhngoc02/Downloads/UFPR-ALPR_dataset/yolo_dataset_structure/labels/test.\n"
     ]
    }
   ],
   "source": [
    "train_images_txt = '/UFPR-ALPR_dataset/training/train_images.txt'\n",
    "train_labels_txt = '/UFPR-ALPR_dataset/training/train_labels.txt'\n",
    "\n",
    "val_images_txt = '/UFPR-ALPR_dataset/validation/validation_images.txt'\n",
    "val_labels_txt = '/UFPR-ALPR_dataset/validation/validation_labels.txt'\n",
    "\n",
    "test_images_txt = '/UFPR-ALPR_dataset/testing/testing_images.txt'\n",
    "test_labels_txt = '/UFPR-ALPR_dataset/testing/testing_labels.txt'\n",
    "\n",
    "\n",
    "yolo_output_dir = '/UFPR-ALPR_dataset/yolo_dataset_structure'\n",
    "\n",
    "# Convert train set\n",
    "convert_corners_labels_to_yolo(\n",
    "    train_images_txt, train_labels_txt,\n",
    "    os.path.join(yolo_output_dir, 'images/train'),\n",
    "    os.path.join(yolo_output_dir, 'labels/train')\n",
    ")\n",
    "\n",
    "# Convert validation set\n",
    "convert_corners_labels_to_yolo(\n",
    "    val_images_txt, val_labels_txt,\n",
    "    os.path.join(yolo_output_dir, 'images/val'),\n",
    "    os.path.join(yolo_output_dir, 'labels/val')\n",
    ")\n",
    "\n",
    "# Convert test set\n",
    "convert_corners_labels_to_yolo(\n",
    "    test_images_txt, test_labels_txt,\n",
    "    os.path.join(yolo_output_dir, 'images/test'),\n",
    "    os.path.join(yolo_output_dir, 'labels/test')\n",
    ")\n"
   ]
  }
 ],
 "metadata": {
  "kernelspec": {
   "display_name": "Python 3",
   "language": "python",
   "name": "python3"
  },
  "language_info": {
   "codemirror_mode": {
    "name": "ipython",
    "version": 3
   },
   "file_extension": ".py",
   "mimetype": "text/x-python",
   "name": "python",
   "nbconvert_exporter": "python",
   "pygments_lexer": "ipython3",
   "version": "3.11.1"
  }
 },
 "nbformat": 4,
 "nbformat_minor": 2
}
